{
  "nbformat": 4,
  "nbformat_minor": 0,
  "metadata": {
    "colab": {
      "provenance": []
    },
    "kernelspec": {
      "name": "python3",
      "display_name": "Python 3"
    },
    "language_info": {
      "name": "python"
    }
  },
  "cells": [
    {
      "cell_type": "markdown",
      "source": [],
      "metadata": {
        "id": "zLjks3efkRa-"
      }
    },
    {
      "cell_type": "markdown",
      "source": [
        "**1. Character Deletion & Reversing resultant string and Arithmetic operations**"
      ],
      "metadata": {
        "id": "3eKYwn_skU4N"
      }
    },
    {
      "cell_type": "code",
      "source": [
        "\n",
        "name=input(\"Enter name= \")\n",
        "name=name[:-2]\n",
        "def rever(str):\n",
        "  return str[::-1]\n",
        "print(\"Output=\",rever(name))\n"
      ],
      "metadata": {
        "colab": {
          "base_uri": "https://localhost:8080/"
        },
        "id": "zPPTyFSZwM14",
        "outputId": "c9af4424-62c6-4845-e915-015d8337c7f4"
      },
      "execution_count": null,
      "outputs": [
        {
          "output_type": "stream",
          "name": "stdout",
          "text": [
            "Enter name= python\n",
            "Output= htyp\n"
          ]
        }
      ]
    },
    {
      "cell_type": "code",
      "source": [
        "a=int(input(\"Enter number 1= \"))\n",
        "b=int(input(\"Enter number 2= \"))\n",
        "print(\"Addition= \",(a+b))\n",
        "print(\"Substraction= \",(a-b))\n",
        "print(\"Multiplication= \",(a*b))\n",
        "print(\"Division= \",(a/b))"
      ],
      "metadata": {
        "colab": {
          "base_uri": "https://localhost:8080/"
        },
        "id": "dbMzywhmwYCJ",
        "outputId": "ddb6eabd-4b52-4dd8-d147-da161d049004"
      },
      "execution_count": null,
      "outputs": [
        {
          "output_type": "stream",
          "name": "stdout",
          "text": [
            "Enter number 1= 55\n",
            "Enter number 2= 56\n",
            "Addition=  111\n",
            "Substraction=  -1\n",
            "Multiplication=  3080\n",
            "Division=  0.9821428571428571\n"
          ]
        }
      ]
    },
    {
      "cell_type": "markdown",
      "source": [
        "**2. Replace each occurence of word in sentence**"
      ],
      "metadata": {
        "id": "vkF8omZGwspf"
      }
    },
    {
      "cell_type": "code",
      "source": [
        "sent=input(\"Enter sentence: \")\n",
        "sent2=sent.replace(\"python\",\"pythons\")\n",
        "print(\"New sentence is: \",sent2)"
      ],
      "metadata": {
        "colab": {
          "base_uri": "https://localhost:8080/"
        },
        "id": "qQLibLRSwxoF",
        "outputId": "02d2323d-122f-42c3-fde8-16c9dd29862b"
      },
      "execution_count": null,
      "outputs": [
        {
          "output_type": "stream",
          "name": "stdout",
          "text": [
            "Enter sentence: I love python programming language and python has many applications\n",
            "New sentence is:  I love pythons programming language and pythons has many applications\n"
          ]
        }
      ]
    },
    {
      "cell_type": "markdown",
      "source": [
        "**3. Grade based on score**"
      ],
      "metadata": {
        "id": "tcTi5tRcxD9X"
      }
    },
    {
      "cell_type": "code",
      "source": [
        "def grade(score):\n",
        "  if(score>=75 and score<=100):\n",
        "    return 'A'\n",
        "  elif(score>=60 and score<75):\n",
        "    return 'B'\n",
        "  elif(score>=35 and score<60):\n",
        "    return 'C'\n",
        "  elif(score>=30 and score<=0):\n",
        "    return 'D'\n",
        "  elif(score<30):\n",
        "    return 'F'\n",
        "  else:\n",
        "    return 'Invalid'\n",
        "s=int(input(\"Enter the score= \"))\n",
        "print(\"Grade=\",grade(s))"
      ],
      "metadata": {
        "colab": {
          "base_uri": "https://localhost:8080/"
        },
        "id": "iwWYPgQ9xOvt",
        "outputId": "1d4bf095-466d-4fc2-e602-1f2d2315e24b"
      },
      "execution_count": null,
      "outputs": [
        {
          "output_type": "stream",
          "name": "stdout",
          "text": [
            "Enter the score= 96\n",
            "Grade= A\n"
          ]
        }
      ]
    }
  ]
}